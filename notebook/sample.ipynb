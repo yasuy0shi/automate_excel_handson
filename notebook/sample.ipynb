{
 "cells": [
  {
   "cell_type": "code",
   "execution_count": 9,
   "metadata": {},
   "outputs": [
    {
     "name": "stdout",
     "output_type": "stream",
     "text": [
      "登録日\n",
      "ユーザーID\n",
      "==========\n",
      "['登録日', 'ユーザーID', '名前', '性別', '年齢', '利用金額', '誕生日']\n",
      "['entrydate', 'userid', 'name', 'seibetsu', 'age', 'totalmoney', 'birthday']\n"
     ]
    }
   ],
   "source": [
    "import openpyxl\n",
    "\n",
    "# NOTE:\n",
    "# 別ファイルを読み込む際は、当該ファイルを直接VSCodeのファイル一覧にドラッグ&ドロップしてください。\n",
    "# その後、下記の `ファイル読込` , `シート参照` のコメント下に記述されているコードのうち、\n",
    "# ファイル名(fileName)、シート名(sheetName)を当該ファイルの名前、シートの名前に置き換えてください。\n",
    "#\n",
    "# 例）ファイル名が `データ.xlsx` 、シート名が `Sheet1` の場合\n",
    "#  # ファイル読込\n",
    "#  workbook = openpyxl.load_workbook('./データ.xlsx', data_only=True)\n",
    "#  # シート参照\n",
    "#  sheet = workbook['Sheet1']\n",
    "\n",
    "# ファイル読込\n",
    "workbook = openpyxl.load_workbook('./fileName.xlsx', data_only=True)\n",
    "# シート参照\n",
    "sheet = workbook['sheetName']\n",
    "\n",
    "# 特定のセルの値を参照\n",
    "a1 = sheet['A1'].value\n",
    "print(a1)\n",
    "\n",
    "b1 = sheet['B1'].value\n",
    "print(b1)\n",
    "\n",
    "print('==========')\n",
    "\n",
    "# 特定の範囲（A1～G2）の値を参照\n",
    "for row in sheet['A1:G2']:\n",
    "    values = []\n",
    "    for col in row:\n",
    "        values.append(col.value)\n",
    "    print(values)"
   ]
  }
 ],
 "metadata": {
  "kernelspec": {
   "display_name": "base",
   "language": "python",
   "name": "python3"
  },
  "language_info": {
   "codemirror_mode": {
    "name": "ipython",
    "version": 3
   },
   "file_extension": ".py",
   "mimetype": "text/x-python",
   "name": "python",
   "nbconvert_exporter": "python",
   "pygments_lexer": "ipython3",
   "version": "3.11.6"
  }
 },
 "nbformat": 4,
 "nbformat_minor": 2
}
